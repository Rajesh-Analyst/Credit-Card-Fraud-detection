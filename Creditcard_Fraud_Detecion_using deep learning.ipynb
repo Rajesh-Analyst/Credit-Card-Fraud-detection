{
 "cells": [
  {
   "cell_type": "markdown",
   "metadata": {
    "id": "BnSvDZ3YBPJM"
   },
   "source": [
    "**Problem statement** :Credit card companies should be to recognize fraudulent credit card transactions so that customers are not charged for items that they did not purchase.However, it is an extremely challenging task as there might be only 1000 fraud cases in over a million transactions, representing a meager 0.1% of the dataset, leading to highly imbalanced datasets. The ML algorithms are very likely to produce faulty classifiers when they are trained with imbalanced datasets as they tend to show a bias for the majority class, treating the minority class as a noise in the dataset. Also, due to the class imbalance \"accuracy\" is not a meaningful metric for unbalanced classification. The algorithm would be able to predict almost all cases belonging to the majority class which will yield a high accuracy score. However, the minority class would be totally ignored by the algorithm. The Accuracy Score would give a false sense of security to the credit card companies which can cost individuals and businesses lots of money.\n",
    "\n"
   ]
  },
  {
   "cell_type": "markdown",
   "metadata": {
    "id": "Y4U6tiVGBOng"
   },
   "source": [
    "**1.Importing Library**"
   ]
  },
  {
   "cell_type": "code",
   "execution_count": 70,
   "metadata": {
    "id": "z4a8Oa-egXsa"
   },
   "outputs": [],
   "source": [
    "import matplotlib.pyplot as plt\n",
    "%matplotlib inline\n",
    "import seaborn as sns\n",
    "# importing numpy, pandas, matplotlib & seaborn (for advanced plots).\n",
    "import numpy as np, pandas as pd, matplotlib.pyplot as plt, seaborn as sns\n",
    "\n",
    "\n",
    "\n",
    "# Importing lib for the ML algo.\n",
    "import sklearn\n",
    "\n",
    "# Scalers\n",
    "from sklearn.preprocessing import StandardScaler\n",
    "\n",
    "# Importing the Kmeans & related lib for finding the optimal k values\n",
    "from sklearn.cluster import KMeans\n",
    "from sklearn.metrics import silhouette_score\n",
    "\n",
    "# Importing the Hierarchy for the linkage algo\n",
    "from scipy.cluster.hierarchy import linkage\n",
    "from scipy.cluster.hierarchy import dendrogram\n",
    "from scipy.cluster.hierarchy import cut_tree\n",
    "\n",
    "#Calculating the Hopkins statistic\n",
    "from sklearn.neighbors import NearestNeighbors\n",
    "from random import sample\n",
    "from numpy.random import uniform\n",
    "from math import isnan\n",
    "\n",
    "from sklearn import metrics\n",
    "from sklearn import preprocessing"
   ]
  },
  {
   "cell_type": "code",
   "execution_count": 71,
   "metadata": {
    "id": "068zNwzhXDsa"
   },
   "outputs": [],
   "source": [
    "# to make graphs display inline\n",
    "%matplotlib inline\n",
    "\n",
    "# setting it to None to remove SettingWithCopyWarning\n",
    "pd.options.mode.chained_assignment = None \n",
    "\n",
    "# setting it to convert scientific noations such as 4.225108e+11 to 422510842796.00\n",
    "pd.options.display.float_format = '{:.4f}'.format\n",
    "\n",
    "# setting it to display max of 50 columns\n",
    "pd.set_option('display.max_columns', 50) \n",
    "\n",
    "# setting it to display max of 100 rows\n",
    "pd.set_option('display.max_rows', 100) \n",
    "\n",
    "np.set_printoptions(suppress=True,formatter={'float_kind':'{:f}'.format})\n",
    "\n",
    "# setting styles for seaborn\n",
    "sns.set(style=\"ticks\", color_codes=True)"
   ]
  },
  {
   "cell_type": "markdown",
   "metadata": {
    "id": "K3JpXn7h_3gV"
   },
   "source": [
    "**2.Flie Path**"
   ]
  },
  {
   "cell_type": "code",
   "execution_count": 72,
   "metadata": {
    "colab": {
     "base_uri": "https://localhost:8080/",
     "height": 215
    },
    "id": "SGtPppR5XNMJ",
    "outputId": "912c718a-ef99-4678-bcc7-7d92c6f6b152"
   },
   "outputs": [
    {
     "data": {
      "text/html": [
       "<div>\n",
       "<style scoped>\n",
       "    .dataframe tbody tr th:only-of-type {\n",
       "        vertical-align: middle;\n",
       "    }\n",
       "\n",
       "    .dataframe tbody tr th {\n",
       "        vertical-align: top;\n",
       "    }\n",
       "\n",
       "    .dataframe thead th {\n",
       "        text-align: right;\n",
       "    }\n",
       "</style>\n",
       "<table border=\"1\" class=\"dataframe\">\n",
       "  <thead>\n",
       "    <tr style=\"text-align: right;\">\n",
       "      <th></th>\n",
       "      <th>Time</th>\n",
       "      <th>V1</th>\n",
       "      <th>V2</th>\n",
       "      <th>V3</th>\n",
       "      <th>V4</th>\n",
       "      <th>V5</th>\n",
       "      <th>V6</th>\n",
       "      <th>V7</th>\n",
       "      <th>V8</th>\n",
       "      <th>V9</th>\n",
       "      <th>V10</th>\n",
       "      <th>V11</th>\n",
       "      <th>V12</th>\n",
       "      <th>V13</th>\n",
       "      <th>V14</th>\n",
       "      <th>V15</th>\n",
       "      <th>V16</th>\n",
       "      <th>V17</th>\n",
       "      <th>V18</th>\n",
       "      <th>V19</th>\n",
       "      <th>V20</th>\n",
       "      <th>V21</th>\n",
       "      <th>V22</th>\n",
       "      <th>V23</th>\n",
       "      <th>V24</th>\n",
       "      <th>V25</th>\n",
       "      <th>V26</th>\n",
       "      <th>V27</th>\n",
       "      <th>V28</th>\n",
       "      <th>Amount</th>\n",
       "      <th>Class</th>\n",
       "    </tr>\n",
       "  </thead>\n",
       "  <tbody>\n",
       "    <tr>\n",
       "      <th>0</th>\n",
       "      <td>0.0000</td>\n",
       "      <td>-1.3598</td>\n",
       "      <td>-0.0728</td>\n",
       "      <td>2.5363</td>\n",
       "      <td>1.3782</td>\n",
       "      <td>-0.3383</td>\n",
       "      <td>0.4624</td>\n",
       "      <td>0.2396</td>\n",
       "      <td>0.0987</td>\n",
       "      <td>0.3638</td>\n",
       "      <td>0.0908</td>\n",
       "      <td>-0.5516</td>\n",
       "      <td>-0.6178</td>\n",
       "      <td>-0.9914</td>\n",
       "      <td>-0.3112</td>\n",
       "      <td>1.4682</td>\n",
       "      <td>-0.4704</td>\n",
       "      <td>0.2080</td>\n",
       "      <td>0.0258</td>\n",
       "      <td>0.4040</td>\n",
       "      <td>0.2514</td>\n",
       "      <td>-0.0183</td>\n",
       "      <td>0.2778</td>\n",
       "      <td>-0.1105</td>\n",
       "      <td>0.0669</td>\n",
       "      <td>0.1285</td>\n",
       "      <td>-0.1891</td>\n",
       "      <td>0.1336</td>\n",
       "      <td>-0.0211</td>\n",
       "      <td>149.6200</td>\n",
       "      <td>0</td>\n",
       "    </tr>\n",
       "    <tr>\n",
       "      <th>1</th>\n",
       "      <td>0.0000</td>\n",
       "      <td>1.1919</td>\n",
       "      <td>0.2662</td>\n",
       "      <td>0.1665</td>\n",
       "      <td>0.4482</td>\n",
       "      <td>0.0600</td>\n",
       "      <td>-0.0824</td>\n",
       "      <td>-0.0788</td>\n",
       "      <td>0.0851</td>\n",
       "      <td>-0.2554</td>\n",
       "      <td>-0.1670</td>\n",
       "      <td>1.6127</td>\n",
       "      <td>1.0652</td>\n",
       "      <td>0.4891</td>\n",
       "      <td>-0.1438</td>\n",
       "      <td>0.6356</td>\n",
       "      <td>0.4639</td>\n",
       "      <td>-0.1148</td>\n",
       "      <td>-0.1834</td>\n",
       "      <td>-0.1458</td>\n",
       "      <td>-0.0691</td>\n",
       "      <td>-0.2258</td>\n",
       "      <td>-0.6387</td>\n",
       "      <td>0.1013</td>\n",
       "      <td>-0.3398</td>\n",
       "      <td>0.1672</td>\n",
       "      <td>0.1259</td>\n",
       "      <td>-0.0090</td>\n",
       "      <td>0.0147</td>\n",
       "      <td>2.6900</td>\n",
       "      <td>0</td>\n",
       "    </tr>\n",
       "    <tr>\n",
       "      <th>2</th>\n",
       "      <td>1.0000</td>\n",
       "      <td>-1.3584</td>\n",
       "      <td>-1.3402</td>\n",
       "      <td>1.7732</td>\n",
       "      <td>0.3798</td>\n",
       "      <td>-0.5032</td>\n",
       "      <td>1.8005</td>\n",
       "      <td>0.7915</td>\n",
       "      <td>0.2477</td>\n",
       "      <td>-1.5147</td>\n",
       "      <td>0.2076</td>\n",
       "      <td>0.6245</td>\n",
       "      <td>0.0661</td>\n",
       "      <td>0.7173</td>\n",
       "      <td>-0.1659</td>\n",
       "      <td>2.3459</td>\n",
       "      <td>-2.8901</td>\n",
       "      <td>1.1100</td>\n",
       "      <td>-0.1214</td>\n",
       "      <td>-2.2619</td>\n",
       "      <td>0.5250</td>\n",
       "      <td>0.2480</td>\n",
       "      <td>0.7717</td>\n",
       "      <td>0.9094</td>\n",
       "      <td>-0.6893</td>\n",
       "      <td>-0.3276</td>\n",
       "      <td>-0.1391</td>\n",
       "      <td>-0.0554</td>\n",
       "      <td>-0.0598</td>\n",
       "      <td>378.6600</td>\n",
       "      <td>0</td>\n",
       "    </tr>\n",
       "    <tr>\n",
       "      <th>3</th>\n",
       "      <td>1.0000</td>\n",
       "      <td>-0.9663</td>\n",
       "      <td>-0.1852</td>\n",
       "      <td>1.7930</td>\n",
       "      <td>-0.8633</td>\n",
       "      <td>-0.0103</td>\n",
       "      <td>1.2472</td>\n",
       "      <td>0.2376</td>\n",
       "      <td>0.3774</td>\n",
       "      <td>-1.3870</td>\n",
       "      <td>-0.0550</td>\n",
       "      <td>-0.2265</td>\n",
       "      <td>0.1782</td>\n",
       "      <td>0.5078</td>\n",
       "      <td>-0.2879</td>\n",
       "      <td>-0.6314</td>\n",
       "      <td>-1.0596</td>\n",
       "      <td>-0.6841</td>\n",
       "      <td>1.9658</td>\n",
       "      <td>-1.2326</td>\n",
       "      <td>-0.2080</td>\n",
       "      <td>-0.1083</td>\n",
       "      <td>0.0053</td>\n",
       "      <td>-0.1903</td>\n",
       "      <td>-1.1756</td>\n",
       "      <td>0.6474</td>\n",
       "      <td>-0.2219</td>\n",
       "      <td>0.0627</td>\n",
       "      <td>0.0615</td>\n",
       "      <td>123.5000</td>\n",
       "      <td>0</td>\n",
       "    </tr>\n",
       "    <tr>\n",
       "      <th>4</th>\n",
       "      <td>2.0000</td>\n",
       "      <td>-1.1582</td>\n",
       "      <td>0.8777</td>\n",
       "      <td>1.5487</td>\n",
       "      <td>0.4030</td>\n",
       "      <td>-0.4072</td>\n",
       "      <td>0.0959</td>\n",
       "      <td>0.5929</td>\n",
       "      <td>-0.2705</td>\n",
       "      <td>0.8177</td>\n",
       "      <td>0.7531</td>\n",
       "      <td>-0.8228</td>\n",
       "      <td>0.5382</td>\n",
       "      <td>1.3459</td>\n",
       "      <td>-1.1197</td>\n",
       "      <td>0.1751</td>\n",
       "      <td>-0.4514</td>\n",
       "      <td>-0.2370</td>\n",
       "      <td>-0.0382</td>\n",
       "      <td>0.8035</td>\n",
       "      <td>0.4085</td>\n",
       "      <td>-0.0094</td>\n",
       "      <td>0.7983</td>\n",
       "      <td>-0.1375</td>\n",
       "      <td>0.1413</td>\n",
       "      <td>-0.2060</td>\n",
       "      <td>0.5023</td>\n",
       "      <td>0.2194</td>\n",
       "      <td>0.2152</td>\n",
       "      <td>69.9900</td>\n",
       "      <td>0</td>\n",
       "    </tr>\n",
       "  </tbody>\n",
       "</table>\n",
       "</div>"
      ],
      "text/plain": [
       "    Time      V1      V2     V3      V4      V5      V6      V7      V8  \\\n",
       "0 0.0000 -1.3598 -0.0728 2.5363  1.3782 -0.3383  0.4624  0.2396  0.0987   \n",
       "1 0.0000  1.1919  0.2662 0.1665  0.4482  0.0600 -0.0824 -0.0788  0.0851   \n",
       "2 1.0000 -1.3584 -1.3402 1.7732  0.3798 -0.5032  1.8005  0.7915  0.2477   \n",
       "3 1.0000 -0.9663 -0.1852 1.7930 -0.8633 -0.0103  1.2472  0.2376  0.3774   \n",
       "4 2.0000 -1.1582  0.8777 1.5487  0.4030 -0.4072  0.0959  0.5929 -0.2705   \n",
       "\n",
       "       V9     V10     V11     V12     V13     V14     V15     V16     V17  \\\n",
       "0  0.3638  0.0908 -0.5516 -0.6178 -0.9914 -0.3112  1.4682 -0.4704  0.2080   \n",
       "1 -0.2554 -0.1670  1.6127  1.0652  0.4891 -0.1438  0.6356  0.4639 -0.1148   \n",
       "2 -1.5147  0.2076  0.6245  0.0661  0.7173 -0.1659  2.3459 -2.8901  1.1100   \n",
       "3 -1.3870 -0.0550 -0.2265  0.1782  0.5078 -0.2879 -0.6314 -1.0596 -0.6841   \n",
       "4  0.8177  0.7531 -0.8228  0.5382  1.3459 -1.1197  0.1751 -0.4514 -0.2370   \n",
       "\n",
       "      V18     V19     V20     V21     V22     V23     V24     V25     V26  \\\n",
       "0  0.0258  0.4040  0.2514 -0.0183  0.2778 -0.1105  0.0669  0.1285 -0.1891   \n",
       "1 -0.1834 -0.1458 -0.0691 -0.2258 -0.6387  0.1013 -0.3398  0.1672  0.1259   \n",
       "2 -0.1214 -2.2619  0.5250  0.2480  0.7717  0.9094 -0.6893 -0.3276 -0.1391   \n",
       "3  1.9658 -1.2326 -0.2080 -0.1083  0.0053 -0.1903 -1.1756  0.6474 -0.2219   \n",
       "4 -0.0382  0.8035  0.4085 -0.0094  0.7983 -0.1375  0.1413 -0.2060  0.5023   \n",
       "\n",
       "      V27     V28   Amount  Class  \n",
       "0  0.1336 -0.0211 149.6200      0  \n",
       "1 -0.0090  0.0147   2.6900      0  \n",
       "2 -0.0554 -0.0598 378.6600      0  \n",
       "3  0.0627  0.0615 123.5000      0  \n",
       "4  0.2194  0.2152  69.9900      0  "
      ]
     },
     "execution_count": 72,
     "metadata": {
      "tags": []
     },
     "output_type": "execute_result"
    }
   ],
   "source": [
    "file_path =\"/content/creditcard.csv\"\n",
    "credit = pd.read_csv(file_path)\n",
    "credit.head()"
   ]
  },
  {
   "cell_type": "markdown",
   "metadata": {
    "id": "1exMeHXZKm5_"
   },
   "source": [
    "**3.Reading the Data Set**"
   ]
  },
  {
   "cell_type": "code",
   "execution_count": 73,
   "metadata": {
    "colab": {
     "base_uri": "https://localhost:8080/",
     "height": 304
    },
    "id": "TPGaN7hcXSQD",
    "outputId": "a059562f-62cb-4462-f909-6b703ad17a4a"
   },
   "outputs": [
    {
     "data": {
      "text/html": [
       "<div>\n",
       "<style scoped>\n",
       "    .dataframe tbody tr th:only-of-type {\n",
       "        vertical-align: middle;\n",
       "    }\n",
       "\n",
       "    .dataframe tbody tr th {\n",
       "        vertical-align: top;\n",
       "    }\n",
       "\n",
       "    .dataframe thead th {\n",
       "        text-align: right;\n",
       "    }\n",
       "</style>\n",
       "<table border=\"1\" class=\"dataframe\">\n",
       "  <thead>\n",
       "    <tr style=\"text-align: right;\">\n",
       "      <th></th>\n",
       "      <th>Time</th>\n",
       "      <th>V1</th>\n",
       "      <th>V2</th>\n",
       "      <th>V3</th>\n",
       "      <th>V4</th>\n",
       "      <th>V5</th>\n",
       "      <th>V6</th>\n",
       "      <th>V7</th>\n",
       "      <th>V8</th>\n",
       "      <th>V9</th>\n",
       "      <th>V10</th>\n",
       "      <th>V11</th>\n",
       "      <th>V12</th>\n",
       "      <th>V13</th>\n",
       "      <th>V14</th>\n",
       "      <th>V15</th>\n",
       "      <th>V16</th>\n",
       "      <th>V17</th>\n",
       "      <th>V18</th>\n",
       "      <th>V19</th>\n",
       "      <th>V20</th>\n",
       "      <th>V21</th>\n",
       "      <th>V22</th>\n",
       "      <th>V23</th>\n",
       "      <th>V24</th>\n",
       "      <th>V25</th>\n",
       "      <th>V26</th>\n",
       "      <th>V27</th>\n",
       "      <th>V28</th>\n",
       "      <th>Amount</th>\n",
       "      <th>Class</th>\n",
       "    </tr>\n",
       "  </thead>\n",
       "  <tbody>\n",
       "    <tr>\n",
       "      <th>count</th>\n",
       "      <td>284807.0000</td>\n",
       "      <td>284807.0000</td>\n",
       "      <td>284807.0000</td>\n",
       "      <td>284807.0000</td>\n",
       "      <td>284807.0000</td>\n",
       "      <td>284807.0000</td>\n",
       "      <td>284807.0000</td>\n",
       "      <td>284807.0000</td>\n",
       "      <td>284807.0000</td>\n",
       "      <td>284807.0000</td>\n",
       "      <td>284807.0000</td>\n",
       "      <td>284807.0000</td>\n",
       "      <td>284807.0000</td>\n",
       "      <td>284807.0000</td>\n",
       "      <td>284807.0000</td>\n",
       "      <td>284807.0000</td>\n",
       "      <td>284807.0000</td>\n",
       "      <td>284807.0000</td>\n",
       "      <td>284807.0000</td>\n",
       "      <td>284807.0000</td>\n",
       "      <td>284807.0000</td>\n",
       "      <td>284807.0000</td>\n",
       "      <td>284807.0000</td>\n",
       "      <td>284807.0000</td>\n",
       "      <td>284807.0000</td>\n",
       "      <td>284807.0000</td>\n",
       "      <td>284807.0000</td>\n",
       "      <td>284807.0000</td>\n",
       "      <td>284807.0000</td>\n",
       "      <td>284807.0000</td>\n",
       "      <td>284807.0000</td>\n",
       "    </tr>\n",
       "    <tr>\n",
       "      <th>mean</th>\n",
       "      <td>94813.8596</td>\n",
       "      <td>0.0000</td>\n",
       "      <td>0.0000</td>\n",
       "      <td>-0.0000</td>\n",
       "      <td>0.0000</td>\n",
       "      <td>-0.0000</td>\n",
       "      <td>0.0000</td>\n",
       "      <td>-0.0000</td>\n",
       "      <td>-0.0000</td>\n",
       "      <td>-0.0000</td>\n",
       "      <td>0.0000</td>\n",
       "      <td>0.0000</td>\n",
       "      <td>-0.0000</td>\n",
       "      <td>0.0000</td>\n",
       "      <td>0.0000</td>\n",
       "      <td>0.0000</td>\n",
       "      <td>0.0000</td>\n",
       "      <td>-0.0000</td>\n",
       "      <td>0.0000</td>\n",
       "      <td>0.0000</td>\n",
       "      <td>0.0000</td>\n",
       "      <td>0.0000</td>\n",
       "      <td>0.0000</td>\n",
       "      <td>0.0000</td>\n",
       "      <td>0.0000</td>\n",
       "      <td>0.0000</td>\n",
       "      <td>0.0000</td>\n",
       "      <td>-0.0000</td>\n",
       "      <td>-0.0000</td>\n",
       "      <td>88.3496</td>\n",
       "      <td>0.0017</td>\n",
       "    </tr>\n",
       "    <tr>\n",
       "      <th>std</th>\n",
       "      <td>47488.1460</td>\n",
       "      <td>1.9587</td>\n",
       "      <td>1.6513</td>\n",
       "      <td>1.5163</td>\n",
       "      <td>1.4159</td>\n",
       "      <td>1.3802</td>\n",
       "      <td>1.3323</td>\n",
       "      <td>1.2371</td>\n",
       "      <td>1.1944</td>\n",
       "      <td>1.0986</td>\n",
       "      <td>1.0888</td>\n",
       "      <td>1.0207</td>\n",
       "      <td>0.9992</td>\n",
       "      <td>0.9953</td>\n",
       "      <td>0.9586</td>\n",
       "      <td>0.9153</td>\n",
       "      <td>0.8763</td>\n",
       "      <td>0.8493</td>\n",
       "      <td>0.8382</td>\n",
       "      <td>0.8140</td>\n",
       "      <td>0.7709</td>\n",
       "      <td>0.7345</td>\n",
       "      <td>0.7257</td>\n",
       "      <td>0.6245</td>\n",
       "      <td>0.6056</td>\n",
       "      <td>0.5213</td>\n",
       "      <td>0.4822</td>\n",
       "      <td>0.4036</td>\n",
       "      <td>0.3301</td>\n",
       "      <td>250.1201</td>\n",
       "      <td>0.0415</td>\n",
       "    </tr>\n",
       "    <tr>\n",
       "      <th>min</th>\n",
       "      <td>0.0000</td>\n",
       "      <td>-56.4075</td>\n",
       "      <td>-72.7157</td>\n",
       "      <td>-48.3256</td>\n",
       "      <td>-5.6832</td>\n",
       "      <td>-113.7433</td>\n",
       "      <td>-26.1605</td>\n",
       "      <td>-43.5572</td>\n",
       "      <td>-73.2167</td>\n",
       "      <td>-13.4341</td>\n",
       "      <td>-24.5883</td>\n",
       "      <td>-4.7975</td>\n",
       "      <td>-18.6837</td>\n",
       "      <td>-5.7919</td>\n",
       "      <td>-19.2143</td>\n",
       "      <td>-4.4989</td>\n",
       "      <td>-14.1299</td>\n",
       "      <td>-25.1628</td>\n",
       "      <td>-9.4987</td>\n",
       "      <td>-7.2135</td>\n",
       "      <td>-54.4977</td>\n",
       "      <td>-34.8304</td>\n",
       "      <td>-10.9331</td>\n",
       "      <td>-44.8077</td>\n",
       "      <td>-2.8366</td>\n",
       "      <td>-10.2954</td>\n",
       "      <td>-2.6046</td>\n",
       "      <td>-22.5657</td>\n",
       "      <td>-15.4301</td>\n",
       "      <td>0.0000</td>\n",
       "      <td>0.0000</td>\n",
       "    </tr>\n",
       "    <tr>\n",
       "      <th>25%</th>\n",
       "      <td>54201.5000</td>\n",
       "      <td>-0.9204</td>\n",
       "      <td>-0.5985</td>\n",
       "      <td>-0.8904</td>\n",
       "      <td>-0.8486</td>\n",
       "      <td>-0.6916</td>\n",
       "      <td>-0.7683</td>\n",
       "      <td>-0.5541</td>\n",
       "      <td>-0.2086</td>\n",
       "      <td>-0.6431</td>\n",
       "      <td>-0.5354</td>\n",
       "      <td>-0.7625</td>\n",
       "      <td>-0.4056</td>\n",
       "      <td>-0.6485</td>\n",
       "      <td>-0.4256</td>\n",
       "      <td>-0.5829</td>\n",
       "      <td>-0.4680</td>\n",
       "      <td>-0.4837</td>\n",
       "      <td>-0.4988</td>\n",
       "      <td>-0.4563</td>\n",
       "      <td>-0.2117</td>\n",
       "      <td>-0.2284</td>\n",
       "      <td>-0.5424</td>\n",
       "      <td>-0.1618</td>\n",
       "      <td>-0.3546</td>\n",
       "      <td>-0.3171</td>\n",
       "      <td>-0.3270</td>\n",
       "      <td>-0.0708</td>\n",
       "      <td>-0.0530</td>\n",
       "      <td>5.6000</td>\n",
       "      <td>0.0000</td>\n",
       "    </tr>\n",
       "    <tr>\n",
       "      <th>50%</th>\n",
       "      <td>84692.0000</td>\n",
       "      <td>0.0181</td>\n",
       "      <td>0.0655</td>\n",
       "      <td>0.1798</td>\n",
       "      <td>-0.0198</td>\n",
       "      <td>-0.0543</td>\n",
       "      <td>-0.2742</td>\n",
       "      <td>0.0401</td>\n",
       "      <td>0.0224</td>\n",
       "      <td>-0.0514</td>\n",
       "      <td>-0.0929</td>\n",
       "      <td>-0.0328</td>\n",
       "      <td>0.1400</td>\n",
       "      <td>-0.0136</td>\n",
       "      <td>0.0506</td>\n",
       "      <td>0.0481</td>\n",
       "      <td>0.0664</td>\n",
       "      <td>-0.0657</td>\n",
       "      <td>-0.0036</td>\n",
       "      <td>0.0037</td>\n",
       "      <td>-0.0625</td>\n",
       "      <td>-0.0295</td>\n",
       "      <td>0.0068</td>\n",
       "      <td>-0.0112</td>\n",
       "      <td>0.0410</td>\n",
       "      <td>0.0166</td>\n",
       "      <td>-0.0521</td>\n",
       "      <td>0.0013</td>\n",
       "      <td>0.0112</td>\n",
       "      <td>22.0000</td>\n",
       "      <td>0.0000</td>\n",
       "    </tr>\n",
       "    <tr>\n",
       "      <th>75%</th>\n",
       "      <td>139320.5000</td>\n",
       "      <td>1.3156</td>\n",
       "      <td>0.8037</td>\n",
       "      <td>1.0272</td>\n",
       "      <td>0.7433</td>\n",
       "      <td>0.6119</td>\n",
       "      <td>0.3986</td>\n",
       "      <td>0.5704</td>\n",
       "      <td>0.3273</td>\n",
       "      <td>0.5971</td>\n",
       "      <td>0.4539</td>\n",
       "      <td>0.7396</td>\n",
       "      <td>0.6182</td>\n",
       "      <td>0.6625</td>\n",
       "      <td>0.4931</td>\n",
       "      <td>0.6488</td>\n",
       "      <td>0.5233</td>\n",
       "      <td>0.3997</td>\n",
       "      <td>0.5008</td>\n",
       "      <td>0.4589</td>\n",
       "      <td>0.1330</td>\n",
       "      <td>0.1864</td>\n",
       "      <td>0.5286</td>\n",
       "      <td>0.1476</td>\n",
       "      <td>0.4395</td>\n",
       "      <td>0.3507</td>\n",
       "      <td>0.2410</td>\n",
       "      <td>0.0910</td>\n",
       "      <td>0.0783</td>\n",
       "      <td>77.1650</td>\n",
       "      <td>0.0000</td>\n",
       "    </tr>\n",
       "    <tr>\n",
       "      <th>max</th>\n",
       "      <td>172792.0000</td>\n",
       "      <td>2.4549</td>\n",
       "      <td>22.0577</td>\n",
       "      <td>9.3826</td>\n",
       "      <td>16.8753</td>\n",
       "      <td>34.8017</td>\n",
       "      <td>73.3016</td>\n",
       "      <td>120.5895</td>\n",
       "      <td>20.0072</td>\n",
       "      <td>15.5950</td>\n",
       "      <td>23.7451</td>\n",
       "      <td>12.0189</td>\n",
       "      <td>7.8484</td>\n",
       "      <td>7.1269</td>\n",
       "      <td>10.5268</td>\n",
       "      <td>8.8777</td>\n",
       "      <td>17.3151</td>\n",
       "      <td>9.2535</td>\n",
       "      <td>5.0411</td>\n",
       "      <td>5.5920</td>\n",
       "      <td>39.4209</td>\n",
       "      <td>27.2028</td>\n",
       "      <td>10.5031</td>\n",
       "      <td>22.5284</td>\n",
       "      <td>4.5845</td>\n",
       "      <td>7.5196</td>\n",
       "      <td>3.5173</td>\n",
       "      <td>31.6122</td>\n",
       "      <td>33.8478</td>\n",
       "      <td>25691.1600</td>\n",
       "      <td>1.0000</td>\n",
       "    </tr>\n",
       "  </tbody>\n",
       "</table>\n",
       "</div>"
      ],
      "text/plain": [
       "             Time          V1          V2          V3          V4          V5  \\\n",
       "count 284807.0000 284807.0000 284807.0000 284807.0000 284807.0000 284807.0000   \n",
       "mean   94813.8596      0.0000      0.0000     -0.0000      0.0000     -0.0000   \n",
       "std    47488.1460      1.9587      1.6513      1.5163      1.4159      1.3802   \n",
       "min        0.0000    -56.4075    -72.7157    -48.3256     -5.6832   -113.7433   \n",
       "25%    54201.5000     -0.9204     -0.5985     -0.8904     -0.8486     -0.6916   \n",
       "50%    84692.0000      0.0181      0.0655      0.1798     -0.0198     -0.0543   \n",
       "75%   139320.5000      1.3156      0.8037      1.0272      0.7433      0.6119   \n",
       "max   172792.0000      2.4549     22.0577      9.3826     16.8753     34.8017   \n",
       "\n",
       "               V6          V7          V8          V9         V10         V11  \\\n",
       "count 284807.0000 284807.0000 284807.0000 284807.0000 284807.0000 284807.0000   \n",
       "mean       0.0000     -0.0000     -0.0000     -0.0000      0.0000      0.0000   \n",
       "std        1.3323      1.2371      1.1944      1.0986      1.0888      1.0207   \n",
       "min      -26.1605    -43.5572    -73.2167    -13.4341    -24.5883     -4.7975   \n",
       "25%       -0.7683     -0.5541     -0.2086     -0.6431     -0.5354     -0.7625   \n",
       "50%       -0.2742      0.0401      0.0224     -0.0514     -0.0929     -0.0328   \n",
       "75%        0.3986      0.5704      0.3273      0.5971      0.4539      0.7396   \n",
       "max       73.3016    120.5895     20.0072     15.5950     23.7451     12.0189   \n",
       "\n",
       "              V12         V13         V14         V15         V16         V17  \\\n",
       "count 284807.0000 284807.0000 284807.0000 284807.0000 284807.0000 284807.0000   \n",
       "mean      -0.0000      0.0000      0.0000      0.0000      0.0000     -0.0000   \n",
       "std        0.9992      0.9953      0.9586      0.9153      0.8763      0.8493   \n",
       "min      -18.6837     -5.7919    -19.2143     -4.4989    -14.1299    -25.1628   \n",
       "25%       -0.4056     -0.6485     -0.4256     -0.5829     -0.4680     -0.4837   \n",
       "50%        0.1400     -0.0136      0.0506      0.0481      0.0664     -0.0657   \n",
       "75%        0.6182      0.6625      0.4931      0.6488      0.5233      0.3997   \n",
       "max        7.8484      7.1269     10.5268      8.8777     17.3151      9.2535   \n",
       "\n",
       "              V18         V19         V20         V21         V22         V23  \\\n",
       "count 284807.0000 284807.0000 284807.0000 284807.0000 284807.0000 284807.0000   \n",
       "mean       0.0000      0.0000      0.0000      0.0000      0.0000      0.0000   \n",
       "std        0.8382      0.8140      0.7709      0.7345      0.7257      0.6245   \n",
       "min       -9.4987     -7.2135    -54.4977    -34.8304    -10.9331    -44.8077   \n",
       "25%       -0.4988     -0.4563     -0.2117     -0.2284     -0.5424     -0.1618   \n",
       "50%       -0.0036      0.0037     -0.0625     -0.0295      0.0068     -0.0112   \n",
       "75%        0.5008      0.4589      0.1330      0.1864      0.5286      0.1476   \n",
       "max        5.0411      5.5920     39.4209     27.2028     10.5031     22.5284   \n",
       "\n",
       "              V24         V25         V26         V27         V28      Amount  \\\n",
       "count 284807.0000 284807.0000 284807.0000 284807.0000 284807.0000 284807.0000   \n",
       "mean       0.0000      0.0000      0.0000     -0.0000     -0.0000     88.3496   \n",
       "std        0.6056      0.5213      0.4822      0.4036      0.3301    250.1201   \n",
       "min       -2.8366    -10.2954     -2.6046    -22.5657    -15.4301      0.0000   \n",
       "25%       -0.3546     -0.3171     -0.3270     -0.0708     -0.0530      5.6000   \n",
       "50%        0.0410      0.0166     -0.0521      0.0013      0.0112     22.0000   \n",
       "75%        0.4395      0.3507      0.2410      0.0910      0.0783     77.1650   \n",
       "max        4.5845      7.5196      3.5173     31.6122     33.8478  25691.1600   \n",
       "\n",
       "            Class  \n",
       "count 284807.0000  \n",
       "mean       0.0017  \n",
       "std        0.0415  \n",
       "min        0.0000  \n",
       "25%        0.0000  \n",
       "50%        0.0000  \n",
       "75%        0.0000  \n",
       "max        1.0000  "
      ]
     },
     "execution_count": 73,
     "metadata": {
      "tags": []
     },
     "output_type": "execute_result"
    }
   ],
   "source": [
    "credit.describe()"
   ]
  },
  {
   "cell_type": "code",
   "execution_count": 74,
   "metadata": {
    "colab": {
     "base_uri": "https://localhost:8080/"
    },
    "id": "5eodluLZdfaN",
    "outputId": "c5e75b2b-16ab-4400-8fa3-e44f31a01d93"
   },
   "outputs": [
    {
     "name": "stdout",
     "output_type": "stream",
     "text": [
      "<class 'pandas.core.frame.DataFrame'>\n",
      "RangeIndex: 284807 entries, 0 to 284806\n",
      "Data columns (total 31 columns):\n",
      " #   Column  Non-Null Count   Dtype  \n",
      "---  ------  --------------   -----  \n",
      " 0   Time    284807 non-null  float64\n",
      " 1   V1      284807 non-null  float64\n",
      " 2   V2      284807 non-null  float64\n",
      " 3   V3      284807 non-null  float64\n",
      " 4   V4      284807 non-null  float64\n",
      " 5   V5      284807 non-null  float64\n",
      " 6   V6      284807 non-null  float64\n",
      " 7   V7      284807 non-null  float64\n",
      " 8   V8      284807 non-null  float64\n",
      " 9   V9      284807 non-null  float64\n",
      " 10  V10     284807 non-null  float64\n",
      " 11  V11     284807 non-null  float64\n",
      " 12  V12     284807 non-null  float64\n",
      " 13  V13     284807 non-null  float64\n",
      " 14  V14     284807 non-null  float64\n",
      " 15  V15     284807 non-null  float64\n",
      " 16  V16     284807 non-null  float64\n",
      " 17  V17     284807 non-null  float64\n",
      " 18  V18     284807 non-null  float64\n",
      " 19  V19     284807 non-null  float64\n",
      " 20  V20     284807 non-null  float64\n",
      " 21  V21     284807 non-null  float64\n",
      " 22  V22     284807 non-null  float64\n",
      " 23  V23     284807 non-null  float64\n",
      " 24  V24     284807 non-null  float64\n",
      " 25  V25     284807 non-null  float64\n",
      " 26  V26     284807 non-null  float64\n",
      " 27  V27     284807 non-null  float64\n",
      " 28  V28     284807 non-null  float64\n",
      " 29  Amount  284807 non-null  float64\n",
      " 30  Class   284807 non-null  int64  \n",
      "dtypes: float64(30), int64(1)\n",
      "memory usage: 67.4 MB\n"
     ]
    }
   ],
   "source": [
    "credit.info()"
   ]
  },
  {
   "cell_type": "code",
   "execution_count": 75,
   "metadata": {
    "colab": {
     "base_uri": "https://localhost:8080/"
    },
    "id": "BUb_HFDedlhJ",
    "outputId": "c8e6700d-0f8b-4f09-c9ca-f7a3cfa932ee"
   },
   "outputs": [
    {
     "name": "stdout",
     "output_type": "stream",
     "text": [
      "0        0.0000\n",
      "1        0.0000\n",
      "2        0.0000\n",
      "3        0.0000\n",
      "4        0.0000\n",
      "          ...  \n",
      "284802   0.0000\n",
      "284803   0.0000\n",
      "284804   0.0000\n",
      "284805   0.0000\n",
      "284806   0.0000\n",
      "Length: 284807, dtype: float64\n"
     ]
    }
   ],
   "source": [
    "# calculating the row null % in the dataframe\n",
    "print(round(100*credit.isnull().sum(axis=1)/len(credit), 2))"
   ]
  },
  {
   "cell_type": "code",
   "execution_count": 76,
   "metadata": {
    "colab": {
     "base_uri": "https://localhost:8080/"
    },
    "id": "5TWwpbmFdr1g",
    "outputId": "2b703df7-a588-455d-981c-f1e04f08af77"
   },
   "outputs": [
    {
     "data": {
      "text/plain": [
       "Series([], dtype: int64)"
      ]
     },
     "execution_count": 76,
     "metadata": {
      "tags": []
     },
     "output_type": "execute_result"
    }
   ],
   "source": [
    "#checking if any columns having unique value ie only 1 value\n",
    "unique =credit.nunique()\n",
    "unique = unique[unique.values ==1] \n",
    "unique"
   ]
  },
  {
   "cell_type": "markdown",
   "metadata": {
    "id": "NeMlnMWyKjg4"
   },
   "source": [
    "**4.Exploratory Data Analysis**"
   ]
  },
  {
   "cell_type": "markdown",
   "metadata": {
    "id": "BAWp4HnZNQ-f"
   },
   "source": [
    "**4.1.Univeriate Analysis**"
   ]
  },
  {
   "cell_type": "code",
   "execution_count": 77,
   "metadata": {
    "colab": {
     "base_uri": "https://localhost:8080/",
     "height": 402
    },
    "id": "r-N7oGKCd0-r",
    "outputId": "f44bb83e-17c0-4490-f49b-0da35dc214b8"
   },
   "outputs": [
    {
     "data": {
      "text/plain": [
       "{'boxes': [<matplotlib.lines.Line2D at 0x7fbf1faef0d0>],\n",
       " 'caps': [<matplotlib.lines.Line2D at 0x7fbf1fa34110>,\n",
       "  <matplotlib.lines.Line2D at 0x7fbf1fa34650>],\n",
       " 'fliers': [<matplotlib.lines.Line2D at 0x7fbf1fa3c150>],\n",
       " 'means': [],\n",
       " 'medians': [<matplotlib.lines.Line2D at 0x7fbf1fa34bd0>],\n",
       " 'whiskers': [<matplotlib.lines.Line2D at 0x7fbf1faef650>,\n",
       "  <matplotlib.lines.Line2D at 0x7fbf1faefb90>]}"
      ]
     },
     "execution_count": 77,
     "metadata": {
      "tags": []
     },
     "output_type": "execute_result"
    },
    {
     "data": {
      "image/png": "[encoded data removed]",
      "text/plain": [
       "<Figure size 432x288 with 1 Axes>"
      ]
     },
     "metadata": {
      "tags": []
     },
     "output_type": "display_data"
    }
   ],
   "source": [
    "plt.boxplot(credit.Time)"
   ]
  },
  {
   "cell_type": "code",
   "execution_count": 78,
   "metadata": {
    "colab": {
     "base_uri": "https://localhost:8080/",
     "height": 370
    },
    "id": "tFvRSFY9p8bP",
    "outputId": "b93859e4-a494-4c65-a81b-819298574c41"
   },
   "outputs": [
    {
     "data": {
      "image/png": "[encoded data removed]",
      "text/plain": [
       "<Figure size 720x360 with 1 Axes>"
      ]
     },
     "metadata": {
      "tags": []
     },
     "output_type": "display_data"
    }
   ],
   "source": [
    "\n",
    "plt.figure(figsize=(10,5))\n",
    "sns.countplot(x = 'Class', data = credit)\n",
    "plt.title('Class Distribution \\n (0 = Genuine | 1 = Fraudulent)');"
   ]
  },
  {
   "cell_type": "markdown",
   "metadata": {
    "id": "ZiY6Sc7WNXqO"
   },
   "source": [
    "**4.2 Bivariate Analysis**"
   ]
  },
  {
   "cell_type": "code",
   "execution_count": 79,
   "metadata": {
    "colab": {
     "base_uri": "https://localhost:8080/",
     "height": 490
    },
    "id": "DmYZzNJeeEKZ",
    "outputId": "6eb9a260-d959-4321-b0d2-9bf812affa5e"
   },
   "outputs": [
    {
     "name": "stderr",
     "output_type": "stream",
     "text": [
      "/usr/local/lib/python3.7/dist-packages/seaborn/axisgrid.py:316: UserWarning: The `size` parameter has been renamed to `height`; please update your code.\n",
      "  warnings.warn(msg, UserWarning)\n"
     ]
    },
    {
     "data": {
      "image/png": "[encoded data removed]",
      "text/plain": [
       "<Figure size 478.6x432 with 1 Axes>"
      ]
     },
     "metadata": {
      "tags": []
     },
     "output_type": "display_data"
    }
   ],
   "source": [
    "sns.set_style(\"whitegrid\")\n",
    "sns.FacetGrid(credit, hue=\"Class\", size = 6).map(plt.scatter, \"Time\", \"Amount\").add_legend()\n",
    "plt.show()"
   ]
  },
  {
   "cell_type": "code",
   "execution_count": 80,
   "metadata": {
    "colab": {
     "base_uri": "https://localhost:8080/",
     "height": 490
    },
    "id": "iQbduBadgd6b",
    "outputId": "6432eaaa-ff3c-41b0-88f0-a2c531a95897"
   },
   "outputs": [
    {
     "name": "stderr",
     "output_type": "stream",
     "text": [
      "/usr/local/lib/python3.7/dist-packages/seaborn/axisgrid.py:316: UserWarning: The `size` parameter has been renamed to `height`; please update your code.\n",
      "  warnings.warn(msg, UserWarning)\n"
     ]
    },
    {
     "data": {
      "image/png": "[encoded data removed]",
      "text/plain": [
       "<Figure size 478.6x432 with 1 Axes>"
      ]
     },
     "metadata": {
      "tags": []
     },
     "output_type": "display_data"
    }
   ],
   "source": [
    "sns.set_style(\"whitegrid\")\n",
    "sns.FacetGrid(credit, hue=\"Class\", size = 6).map(plt.scatter, \"Amount\", \"Time\").add_legend()\n",
    "plt.show()"
   ]
  },
  {
   "cell_type": "code",
   "execution_count": 81,
   "metadata": {
    "colab": {
     "base_uri": "https://localhost:8080/",
     "height": 577
    },
    "id": "ugZGGIrueMfj",
    "outputId": "3a7ae229-133f-4e86-a265-c8276305baf2"
   },
   "outputs": [
    {
     "data": {
      "image/png": "[encoded data removed]",
      "text/plain": [
       "<Figure size 864x648 with 2 Axes>"
      ]
     },
     "metadata": {
      "tags": []
     },
     "output_type": "display_data"
    }
   ],
   "source": [
    "# Correlation matrix\n",
    "corrmat = credit.corr()\n",
    "fig = plt.figure(figsize = (12, 9))\n",
    "sns.heatmap(corrmat, vmax = .8, square = True)\n",
    "plt.show()"
   ]
  },
  {
   "cell_type": "code",
   "execution_count": 82,
   "metadata": {
    "id": "wXDUjePEgays"
   },
   "outputs": [],
   "source": [
    "\n",
    "x=credit.drop(['Class'],axis=1)\n",
    "y=credit['Class']"
   ]
  },
  {
   "cell_type": "code",
   "execution_count": 83,
   "metadata": {
    "id": "y_FpFi-Z7N5F"
   },
   "outputs": [],
   "source": [
    "\n",
    "#Feature Scaling\n",
    "from sklearn.preprocessing import StandardScaler\n",
    "sc=StandardScaler()\n",
    "x=sc.fit_transform(x)"
   ]
  },
  {
   "cell_type": "markdown",
   "metadata": {
    "id": "a2yhs6Az61y2"
   },
   "source": [
    "**5.Splitting the data into train & test data**\n"
   ]
  },
  {
   "cell_type": "code",
   "execution_count": 84,
   "metadata": {
    "id": "v2zM_su665bl"
   },
   "outputs": [],
   "source": [
    "from sklearn.model_selection import train_test_split\n",
    "x_train,x_test,y_train,y_test=train_test_split(x,y,test_size=0.3)"
   ]
  },
  {
   "cell_type": "markdown",
   "metadata": {
    "id": "m3Hbl_Gu7c5f"
   },
   "source": [
    "**6.Logistic Regression**\n"
   ]
  },
  {
   "cell_type": "code",
   "execution_count": 85,
   "metadata": {
    "id": "H0FDRD_Q7Wus"
   },
   "outputs": [],
   "source": [
    "from sklearn.linear_model import LogisticRegressionCV\n",
    "clf = LogisticRegressionCV(cv=10, random_state=42,class_weight='balanced',max_iter=1000).fit(x_train, y_train)\n"
   ]
  },
  {
   "cell_type": "code",
   "execution_count": 86,
   "metadata": {
    "id": "9CDO94yI7qDs"
   },
   "outputs": [],
   "source": [
    "predictions1=clf.predict(x_test)"
   ]
  },
  {
   "cell_type": "code",
   "execution_count": 87,
   "metadata": {
    "colab": {
     "base_uri": "https://localhost:8080/"
    },
    "id": "VNZTgkRl8CiF",
    "outputId": "63b214cf-6a59-4dc4-e4d6-93d363d1c4d8"
   },
   "outputs": [
    {
     "name": "stdout",
     "output_type": "stream",
     "text": [
      "              precision    recall  f1-score   support\n",
      "\n",
      "           0       1.00      0.99      0.99     85301\n",
      "           1       0.10      0.89      0.18       142\n",
      "\n",
      "    accuracy                           0.99     85443\n",
      "   macro avg       0.55      0.94      0.59     85443\n",
      "weighted avg       1.00      0.99      0.99     85443\n",
      "\n"
     ]
    }
   ],
   "source": [
    "from sklearn.metrics import classification_report\n",
    "print(classification_report(y_test,predictions1))"
   ]
  },
  {
   "cell_type": "code",
   "execution_count": 88,
   "metadata": {
    "colab": {
     "base_uri": "https://localhost:8080/",
     "height": 373
    },
    "id": "yozxOgE59oP-",
    "outputId": "46571c55-a06b-482f-d18f-282c30fddcf8"
   },
   "outputs": [
    {
     "name": "stdout",
     "output_type": "stream",
     "text": [
      "Confusion Matrix:  [[84147  1154]\n",
      " [   15   127]]\n"
     ]
    },
    {
     "data": {
      "image/png": "[encoded data removed]",
      "text/plain": [
       "<Figure size 360x360 with 1 Axes>"
      ]
     },
     "metadata": {
      "tags": []
     },
     "output_type": "display_data"
    }
   ],
   "source": [
    "\n",
    "import matplotlib.pyplot as plt\n",
    "from sklearn.metrics import confusion_matrix\n",
    "CM = confusion_matrix(y_test, predictions1)\n",
    "print('Confusion Matrix: ',CM)\n",
    "from mlxtend.plotting import plot_confusion_matrix\n",
    "fig, ax = plot_confusion_matrix(conf_mat=CM ,  figsize=(5, 5))\n",
    "plt.show()"
   ]
  },
  {
   "cell_type": "markdown",
   "metadata": {
    "id": "q7KmJAM9_jYr"
   },
   "source": [
    "This classifier achieves a satisfactory Recall score for the minority class. However, the Precision and F1 score for the minority class is abysmal which means this classifier labels \"legal\" transaction as \"fraud\" at a high rate which would anger the customers. Let's explore some more metrics to evaluate this classifier\n"
   ]
  },
  {
   "cell_type": "code",
   "execution_count": 89,
   "metadata": {
    "colab": {
     "base_uri": "https://localhost:8080/"
    },
    "id": "4Voojof3fypS",
    "outputId": "21480e7d-fcad-46d3-a811-0992c453e3ea"
   },
   "outputs": [
    {
     "name": "stdout",
     "output_type": "stream",
     "text": [
      "Average precision-recall score: 0.69\n",
      "Average ROC_AUC score: 0.99\n"
     ]
    }
   ],
   "source": [
    "\n",
    "y_score = clf.decision_function(x_test)\n",
    "from sklearn.metrics import average_precision_score\n",
    "average_precision = average_precision_score(y_test, y_score)\n",
    "\n",
    "print('Average precision-recall score: {0:0.2f}'.format(\n",
    "      average_precision))\n",
    "from sklearn.metrics import roc_auc_score\n",
    "y_pred_prob = clf.predict_proba(x_test)\n",
    "print('Average ROC_AUC score: {0:0.2f}'.format(roc_auc_score(y_test, y_pred_prob[:,1])))"
   ]
  },
  {
   "cell_type": "code",
   "execution_count": 90,
   "metadata": {
    "colab": {
     "base_uri": "https://localhost:8080/",
     "height": 318
    },
    "id": "dxYTY13__plU",
    "outputId": "4dd8aa72-3a3a-4e1c-ab87-7a4bec40d539"
   },
   "outputs": [
    {
     "data": {
      "text/plain": [
       "Text(0.5, 1.0, '2-class Precision-Recall curve: AP=0.69')"
      ]
     },
     "execution_count": 90,
     "metadata": {
      "tags": []
     },
     "output_type": "execute_result"
    },
    {
     "data": {
      "image/png": "[encoded data removed]",
      "text/plain": [
       "<Figure size 432x288 with 1 Axes>"
      ]
     },
     "metadata": {
      "tags": []
     },
     "output_type": "display_data"
    }
   ],
   "source": [
    "from sklearn.metrics import precision_recall_curve\n",
    "import matplotlib.pyplot as plt\n",
    "from inspect import signature\n",
    "\n",
    "precision, recall, _ = precision_recall_curve(y_test, y_score)\n",
    "\n",
    "# In matplotlib < 1.5, plt.fill_between does not have a 'step' argument\n",
    "step_kwargs = ({'step': 'post'}\n",
    "               if 'step' in signature(plt.fill_between).parameters\n",
    "               else {})\n",
    "plt.step(recall, precision, color='b', alpha=0.2,\n",
    "         where='post')\n",
    "plt.fill_between(recall, precision, alpha=0.2, color='b', **step_kwargs)\n",
    "\n",
    "plt.xlabel('Recall')\n",
    "plt.ylabel('Precision')\n",
    "plt.ylim([0.0, 1.05])\n",
    "plt.xlim([0.0, 1.0])\n",
    "plt.title('2-class Precision-Recall curve: AP={0:0.2f}'.format(\n",
    "          average_precision))"
   ]
  },
  {
   "cell_type": "code",
   "execution_count": 90,
   "metadata": {
    "id": "1kZ8SKO5_zOR"
   },
   "outputs": [],
   "source": []
  },
  {
   "cell_type": "markdown",
   "metadata": {
    "id": "xTxkPihS_yaU"
   },
   "source": [
    "**7.Random Forest Classifier**"
   ]
  },
  {
   "cell_type": "code",
   "execution_count": 91,
   "metadata": {
    "id": "sHqKtt7B_u5A"
   },
   "outputs": [],
   "source": [
    "from sklearn.ensemble import RandomForestClassifier\n",
    "rfc=RandomForestClassifier(random_state=42,class_weight='balanced',n_estimators=200)\n",
    "rfc.fit(x_train,y_train)\n",
    "predictions2=rfc.predict(x_test)"
   ]
  },
  {
   "cell_type": "code",
   "execution_count": 92,
   "metadata": {
    "colab": {
     "base_uri": "https://localhost:8080/"
    },
    "id": "s9GU0Jwt_55a",
    "outputId": "c9f35401-f867-4c75-d120-4cc6d56ebaff"
   },
   "outputs": [
    {
     "name": "stdout",
     "output_type": "stream",
     "text": [
      "              precision    recall  f1-score   support\n",
      "\n",
      "           0       1.00      1.00      1.00     85301\n",
      "           1       0.94      0.74      0.83       142\n",
      "\n",
      "    accuracy                           1.00     85443\n",
      "   macro avg       0.97      0.87      0.91     85443\n",
      "weighted avg       1.00      1.00      1.00     85443\n",
      "\n"
     ]
    }
   ],
   "source": [
    "from sklearn.metrics import classification_report\n",
    "print(classification_report(y_test,predictions2))"
   ]
  },
  {
   "cell_type": "code",
   "execution_count": 93,
   "metadata": {
    "colab": {
     "base_uri": "https://localhost:8080/"
    },
    "id": "3RLlRWMxCDev",
    "outputId": "c9648b5a-6f36-4856-bae1-01a9564b888e"
   },
   "outputs": [
    {
     "name": "stdout",
     "output_type": "stream",
     "text": [
      "Average ROC_AUC score: 0.96\n"
     ]
    }
   ],
   "source": [
    "from sklearn.metrics import roc_auc_score\n",
    "y_pred_proba = rfc.predict_proba(x_test)\n",
    "print('Average ROC_AUC score: {0:0.2f}'.format(roc_auc_score(y_test, y_pred_proba[:,1])))"
   ]
  },
  {
   "cell_type": "code",
   "execution_count": 94,
   "metadata": {
    "colab": {
     "base_uri": "https://localhost:8080/",
     "height": 373
    },
    "id": "SLbAqjItCSeu",
    "outputId": "f8333e1c-9211-46c3-e76e-0a043d46690e"
   },
   "outputs": [
    {
     "name": "stdout",
     "output_type": "stream",
     "text": [
      "Confusion Matrix:  [[85294     7]\n",
      " [   37   105]]\n"
     ]
    },
    {
     "data": {
      "image/png": "[encoded data removed]",
      "text/plain": [
       "<Figure size 360x360 with 1 Axes>"
      ]
     },
     "metadata": {
      "tags": []
     },
     "output_type": "display_data"
    }
   ],
   "source": [
    "\n",
    "import matplotlib.pyplot as plt\n",
    "from sklearn.metrics import confusion_matrix\n",
    "CM = confusion_matrix(y_test, predictions2)\n",
    "print('Confusion Matrix: ',CM)\n",
    "from mlxtend.plotting import plot_confusion_matrix\n",
    "fig, ax = plot_confusion_matrix(conf_mat=CM ,  figsize=(5, 5))\n",
    "plt.show()"
   ]
  },
  {
   "cell_type": "markdown",
   "metadata": {
    "id": "ZxTVWEZICq8v"
   },
   "source": [
    "\n",
    "For this classifier, the Precision and F1 Score for the minority class is satisfactory. This classifier misclassifies \"legal\" transactions as \"fraudulent\" at a much lower rate compared to the Logistic Regression Classifier. However, the Recall is lower than the Logistic Regression Classifier which means that this classifier would not be able to predict frauds as well as the Logistic Regression Classifier\n"
   ]
  },
  {
   "cell_type": "markdown",
   "metadata": {
    "id": "dgOl-Vf5C9GN"
   },
   "source": [
    "\n",
    "**8.Let's explore the imporatance of the features of the datase**"
   ]
  },
  {
   "cell_type": "code",
   "execution_count": 95,
   "metadata": {
    "colab": {
     "base_uri": "https://localhost:8080/",
     "height": 459
    },
    "id": "XOUE4oWBCcX1",
    "outputId": "77155e0e-0c60-4267-fb59-1f47d7711f93"
   },
   "outputs": [
    {
     "name": "stdout",
     "output_type": "stream",
     "text": [
      "Feature ranking:\n"
     ]
    },
    {
     "data": {
      "image/png": "[encoded data removed]",
      "text/plain": [
       "<Figure size 640x480 with 1 Axes>"
      ]
     },
     "metadata": {
      "tags": []
     },
     "output_type": "display_data"
    }
   ],
   "source": [
    "# Identifying the Feature Importance\n",
    "importances = rfc.feature_importances_\n",
    "std = np.std([tree.feature_importances_ for tree in rfc.estimators_],\n",
    "             axis=0)\n",
    "indices = np.argsort(importances)[::-1]\n",
    "\n",
    "# Print the feature ranking\n",
    "print(\"Feature ranking:\")\n",
    "X=x_train\n",
    "#for f in range(X.shape[1]):\n",
    "#print(\"%d. feature %d (%f)\" % (f + 1, indices[f], importances[indices[f]]))\n",
    "\n",
    "# Plot the feature importances of the forest\n",
    "plt.figure(num=None, figsize=(8, 6), dpi=80, facecolor='w', edgecolor='k')\n",
    "plt.title(\"Feature Importances\")\n",
    "plt.bar(range(X.shape[1]), importances[indices],\n",
    "       color=\"r\", yerr=std[indices], align=\"center\")\n",
    "plt.xticks(range(X.shape[1]), indices,rotation=45)\n",
    "plt.xlim([-1, X.shape[1]])\n",
    "plt.show()"
   ]
  },
  {
   "cell_type": "markdown",
   "metadata": {
    "id": "fK6BLB84Fe3z"
   },
   "source": [
    "**9.XGBoost Classifier**\n"
   ]
  },
  {
   "cell_type": "code",
   "execution_count": 96,
   "metadata": {
    "id": "AsJfQLkMDG0k"
   },
   "outputs": [],
   "source": [
    "import xgboost as xgb\n",
    "from xgboost.sklearn import XGBClassifier\n",
    "\n",
    "data_dmatrix = xgb.DMatrix(data=x_train,label=y_train)\n",
    "\n",
    "xgb = XGBClassifier(n_estimators=200,\n",
    "                   objective= 'binary:logistic',\n",
    "                   scale_pos_weight=1,\n",
    "                   seed=42)\n",
    "xgb.fit(x_train, y_train)\n",
    "predictions3 = xgb.predict(x_test)"
   ]
  },
  {
   "cell_type": "code",
   "execution_count": 97,
   "metadata": {
    "colab": {
     "base_uri": "https://localhost:8080/"
    },
    "id": "7XSpQeDqFlv3",
    "outputId": "b5f61f81-70c3-4126-dc9f-76944e587c57"
   },
   "outputs": [
    {
     "name": "stdout",
     "output_type": "stream",
     "text": [
      "              precision    recall  f1-score   support\n",
      "\n",
      "           0       1.00      1.00      1.00     85301\n",
      "           1       0.94      0.80      0.86       142\n",
      "\n",
      "    accuracy                           1.00     85443\n",
      "   macro avg       0.97      0.90      0.93     85443\n",
      "weighted avg       1.00      1.00      1.00     85443\n",
      "\n"
     ]
    }
   ],
   "source": [
    "from sklearn.metrics import classification_report\n",
    "print(classification_report(y_test,predictions3))"
   ]
  },
  {
   "cell_type": "code",
   "execution_count": 98,
   "metadata": {
    "colab": {
     "base_uri": "https://localhost:8080/",
     "height": 373
    },
    "id": "oA_MM7ptGbY-",
    "outputId": "6b976a63-9f62-406f-c661-21443a9d96af"
   },
   "outputs": [
    {
     "name": "stdout",
     "output_type": "stream",
     "text": [
      "Confusion Matrix:  [[85294     7]\n",
      " [   29   113]]\n"
     ]
    },
    {
     "data": {
      "image/png": "[encoded data removed]",
      "text/plain": [
       "<Figure size 360x360 with 1 Axes>"
      ]
     },
     "metadata": {
      "tags": []
     },
     "output_type": "display_data"
    }
   ],
   "source": [
    "from sklearn.metrics import confusion_matrix\n",
    "CM = confusion_matrix(y_test, predictions3)\n",
    "print('Confusion Matrix: ',CM)\n",
    "from mlxtend.plotting import plot_confusion_matrix\n",
    "fig, ax = plot_confusion_matrix(conf_mat=CM ,  figsize=(5, 5))\n",
    "plt.show()"
   ]
  },
  {
   "cell_type": "markdown",
   "metadata": {
    "id": "K3ku0W2QGtWV"
   },
   "source": [
    "This classifier has the best F1 Score among the classifiers. However, the Recall of this classifier is less than the Logistic Regression CV Classifier"
   ]
  },
  {
   "cell_type": "code",
   "execution_count": 99,
   "metadata": {
    "id": "UjLT0JkYGhR9"
   },
   "outputs": [],
   "source": [
    "xgb_prob=xgb.predict_proba(x_test) #Getting the Class Probabilities\n",
    "y_score=[]\n",
    "for i in range(len(xgb_prob)): #computing probability estimates of the positive class\n",
    "  y_score.append(xgb_prob[i][1])"
   ]
  },
  {
   "cell_type": "code",
   "execution_count": 100,
   "metadata": {
    "colab": {
     "base_uri": "https://localhost:8080/"
    },
    "id": "_BBQDcAwG1GP",
    "outputId": "cbfdc66f-5097-4b31-ef0d-6b60aa2616b5"
   },
   "outputs": [
    {
     "name": "stdout",
     "output_type": "stream",
     "text": [
      "Average precision-recall score: 0.86\n",
      "Average ROC_AUC score: 0.99\n"
     ]
    }
   ],
   "source": [
    "\n",
    "#y_score = xgb.decision_function(x_test)\n",
    "from sklearn.metrics import average_precision_score\n",
    "average_precision = average_precision_score(y_test, y_score)\n",
    "\n",
    "print('Average precision-recall score: {0:0.2f}'.format(\n",
    "      average_precision))\n",
    "from sklearn.metrics import roc_auc_score\n",
    "y_pred_prob = xgb.predict_proba(x_test)\n",
    "print('Average ROC_AUC score: {0:0.2f}'.format(roc_auc_score(y_test, y_pred_prob[:,1])))"
   ]
  },
  {
   "cell_type": "code",
   "execution_count": 101,
   "metadata": {
    "colab": {
     "base_uri": "https://localhost:8080/",
     "height": 318
    },
    "id": "4f6SwWfAHOgH",
    "outputId": "87fc9913-db61-43d3-dd24-9a3e7c60985a"
   },
   "outputs": [
    {
     "data": {
      "text/plain": [
       "Text(0.5, 1.0, '2-class Precision-Recall curve: AP=0.86')"
      ]
     },
     "execution_count": 101,
     "metadata": {
      "tags": []
     },
     "output_type": "execute_result"
    },
    {
     "data": {
      "image/png": "[encoded data removed]",
      "text/plain": [
       "<Figure size 432x288 with 1 Axes>"
      ]
     },
     "metadata": {
      "tags": []
     },
     "output_type": "display_data"
    }
   ],
   "source": [
    "from sklearn.metrics import precision_recall_curve\n",
    "import matplotlib.pyplot as plt\n",
    "from inspect import signature\n",
    "\n",
    "precision, recall, _ = precision_recall_curve(y_test, y_score)\n",
    "\n",
    "# In matplotlib < 1.5, plt.fill_between does not have a 'step' argument\n",
    "step_kwargs = ({'step': 'post'}\n",
    "               if 'step' in signature(plt.fill_between).parameters\n",
    "               else {})\n",
    "plt.step(recall, precision, color='b', alpha=0.2,\n",
    "         where='post')\n",
    "plt.fill_between(recall, precision, alpha=0.2, color='b', **step_kwargs)\n",
    "\n",
    "plt.xlabel('Recall')\n",
    "plt.ylabel('Precision')\n",
    "plt.ylim([0.0, 1.05])\n",
    "plt.xlim([0.0, 1.0])\n",
    "plt.title('2-class Precision-Recall curve: AP={0:0.2f}'.format(\n",
    "          average_precision))"
   ]
  },
  {
   "cell_type": "markdown",
   "metadata": {
    "id": "z3ne_fUmHg2m"
   },
   "source": [
    "\n",
    "The Average ROC_AUC score of XGBoost Classifier is same as the Logistic Regression Classifier and the Random Forest Classifier. However, the Average precision-recall score is significantly higher for the XGBoost Classifier compared to the Logistic Regression Classifier"
   ]
  },
  {
   "cell_type": "markdown",
   "metadata": {
    "id": "ylHMwj60HpKC"
   },
   "source": [
    "**8.Synthetic Minority Over-sampling Technique(SMOTE)**"
   ]
  },
  {
   "cell_type": "code",
   "execution_count": 102,
   "metadata": {
    "colab": {
     "base_uri": "https://localhost:8080/"
    },
    "id": "xHLglfk6HSru",
    "outputId": "aa518c26-7fd6-4b59-af83-c981f3f94a11"
   },
   "outputs": [
    {
     "name": "stderr",
     "output_type": "stream",
     "text": [
      "/usr/local/lib/python3.7/dist-packages/sklearn/utils/deprecation.py:87: FutureWarning: Function safe_indexing is deprecated; safe_indexing is deprecated in version 0.22 and will be removed in version 0.24.\n",
      "  warnings.warn(msg, category=FutureWarning)\n"
     ]
    }
   ],
   "source": [
    "from imblearn.over_sampling import SMOTE\n",
    "#Over-sampling: SMOTE\n",
    "#SMOTE (Synthetic Minority Oversampling TEchnique) consists of synthesizing elements for the minority class, \n",
    "#based on those that already exist. It works randomly picking a point from the minority class and computing \n",
    "#the k-nearest neighbors for this point.The synthetic points are added between the chosen point and its neighbors.\n",
    "#We'll use ratio='minority' to resample the minority class.\n",
    "#smote = SMOTE('minority')\n",
    "smote = SMOTE(random_state=42)\n",
    "\n",
    "x_sm, y_sm = smote.fit_sample(x_train, y_train)"
   ]
  },
  {
   "cell_type": "markdown",
   "metadata": {
    "id": "MkUVjDDEUJx1"
   },
   "source": [
    "**9.Model Building with Balanced classes**"
   ]
  },
  {
   "cell_type": "markdown",
   "metadata": {
    "id": "JLf1aooXH7M9"
   },
   "source": [
    "**9.1.Logistic Regression CV Classifier**"
   ]
  },
  {
   "cell_type": "code",
   "execution_count": 103,
   "metadata": {
    "colab": {
     "base_uri": "https://localhost:8080/"
    },
    "id": "0KYDyaxrHwjR",
    "outputId": "9c8c546a-f880-490d-ce78-8a97f1606646"
   },
   "outputs": [
    {
     "data": {
      "text/plain": [
       "LogisticRegressionCV(Cs=10, class_weight='balanced', cv=10, dual=False,\n",
       "                     fit_intercept=True, intercept_scaling=1.0, l1_ratios=None,\n",
       "                     max_iter=1000, multi_class='auto', n_jobs=None,\n",
       "                     penalty='l2', random_state=42, refit=True, scoring=None,\n",
       "                     solver='lbfgs', tol=0.0001, verbose=0)"
      ]
     },
     "execution_count": 103,
     "metadata": {
      "tags": []
     },
     "output_type": "execute_result"
    }
   ],
   "source": [
    "clf.fit(x_sm,y_sm)"
   ]
  },
  {
   "cell_type": "code",
   "execution_count": 104,
   "metadata": {
    "id": "4wyqt4DWIAxH"
   },
   "outputs": [],
   "source": [
    "predictions4=clf.predict(x_test)"
   ]
  },
  {
   "cell_type": "code",
   "execution_count": 105,
   "metadata": {
    "colab": {
     "base_uri": "https://localhost:8080/"
    },
    "id": "Xy5bxEA6IrYi",
    "outputId": "78ead62f-3869-42e2-e09b-947afd337dfc"
   },
   "outputs": [
    {
     "name": "stdout",
     "output_type": "stream",
     "text": [
      "              precision    recall  f1-score   support\n",
      "\n",
      "           0       1.00      0.97      0.99     85301\n",
      "           1       0.06      0.92      0.11       142\n",
      "\n",
      "    accuracy                           0.97     85443\n",
      "   macro avg       0.53      0.95      0.55     85443\n",
      "weighted avg       1.00      0.97      0.99     85443\n",
      "\n"
     ]
    }
   ],
   "source": [
    "from sklearn.metrics import classification_report\n",
    "print(classification_report(y_test,predictions4))"
   ]
  },
  {
   "cell_type": "code",
   "execution_count": 106,
   "metadata": {
    "colab": {
     "base_uri": "https://localhost:8080/",
     "height": 373
    },
    "id": "xauIszv-IwyH",
    "outputId": "68cf48d2-43ed-4d3c-80ea-601f862b80ed"
   },
   "outputs": [
    {
     "name": "stdout",
     "output_type": "stream",
     "text": [
      "Confusion Matrix:  [[83097  2204]\n",
      " [   11   131]]\n"
     ]
    },
    {
     "data": {
      "image/png": "[encoded data removed]",
      "text/plain": [
       "<Figure size 360x360 with 1 Axes>"
      ]
     },
     "metadata": {
      "tags": []
     },
     "output_type": "display_data"
    }
   ],
   "source": [
    "from sklearn.metrics import confusion_matrix\n",
    "CM = confusion_matrix(y_test, predictions4)\n",
    "print('Confusion Matrix: ',CM)\n",
    "from mlxtend.plotting import plot_confusion_matrix\n",
    "fig, ax = plot_confusion_matrix(conf_mat=CM ,  figsize=(5, 5))\n",
    "plt.show()"
   ]
  },
  {
   "cell_type": "code",
   "execution_count": 107,
   "metadata": {
    "colab": {
     "base_uri": "https://localhost:8080/"
    },
    "id": "xdW8wZirI9wY",
    "outputId": "341c755d-1de7-4b6d-e387-fbd6eb26fd9b"
   },
   "outputs": [
    {
     "name": "stdout",
     "output_type": "stream",
     "text": [
      "Average precision-recall score: 0.72\n",
      "Average ROC_AUC score: 0.99\n"
     ]
    }
   ],
   "source": [
    "y_score = clf.decision_function(x_test)\n",
    "from sklearn.metrics import average_precision_score\n",
    "average_precision = average_precision_score(y_test, y_score)\n",
    "\n",
    "print('Average precision-recall score: {0:0.2f}'.format(\n",
    "      average_precision))\n",
    "from sklearn.metrics import roc_auc_score\n",
    "y_pred_prob = clf.predict_proba(x_test)\n",
    "print('Average ROC_AUC score: {0:0.2f}'.format(roc_auc_score(y_test, y_pred_prob[:,1])))"
   ]
  },
  {
   "cell_type": "code",
   "execution_count": 108,
   "metadata": {
    "colab": {
     "base_uri": "https://localhost:8080/",
     "height": 318
    },
    "id": "cdTdINBqJHJZ",
    "outputId": "4ddcf054-f4fe-4dcb-e0a7-1f1045c364e9"
   },
   "outputs": [
    {
     "data": {
      "text/plain": [
       "Text(0.5, 1.0, '2-class Precision-Recall curve: AP=0.72')"
      ]
     },
     "execution_count": 108,
     "metadata": {
      "tags": []
     },
     "output_type": "execute_result"
    },
    {
     "data": {
      "image/png": "[encoded data removed]",
      "text/plain": [
       "<Figure size 432x288 with 1 Axes>"
      ]
     },
     "metadata": {
      "tags": []
     },
     "output_type": "display_data"
    }
   ],
   "source": [
    "from sklearn.metrics import precision_recall_curve\n",
    "import matplotlib.pyplot as plt\n",
    "from inspect import signature\n",
    "\n",
    "precision, recall, _ = precision_recall_curve(y_test, y_score)\n",
    "\n",
    "# In matplotlib < 1.5, plt.fill_between does not have a 'step' argument\n",
    "step_kwargs = ({'step': 'post'}\n",
    "               if 'step' in signature(plt.fill_between).parameters\n",
    "               else {})\n",
    "plt.step(recall, precision, color='b', alpha=0.2,\n",
    "         where='post')\n",
    "plt.fill_between(recall, precision, alpha=0.2, color='b', **step_kwargs)\n",
    "\n",
    "plt.xlabel('Recall')\n",
    "plt.ylabel('Precision')\n",
    "plt.ylim([0.0, 1.05])\n",
    "plt.xlim([0.0, 1.0])\n",
    "plt.title('2-class Precision-Recall curve: AP={0:0.2f}'.format(\n",
    "          average_precision))"
   ]
  },
  {
   "cell_type": "markdown",
   "metadata": {
    "id": "KtSe9O4XJVHj"
   },
   "source": [
    "Compared to the original Logistic Regression Model, the Recall for the minority class of the Logistic Regression Model trained using SMOTE improved at the cost of the Recall of the dominant class. Average precision-recall score marginally improves and the Average ROC_AUC score remains the same"
   ]
  },
  {
   "cell_type": "markdown",
   "metadata": {
    "id": "NcPbYBR8JdV0"
   },
   "source": [
    "**9.2.Random forest Classifier**"
   ]
  },
  {
   "cell_type": "code",
   "execution_count": 109,
   "metadata": {
    "id": "h_2ZcYdbJjhI"
   },
   "outputs": [],
   "source": [
    "\n",
    "rfc.fit(x_sm,y_sm)\n",
    "predictions5=rfc.predict(x_test)"
   ]
  },
  {
   "cell_type": "code",
   "execution_count": 110,
   "metadata": {
    "colab": {
     "base_uri": "https://localhost:8080/"
    },
    "id": "Jf1-ZmD5KBKX",
    "outputId": "c763a0df-45e6-4a87-d7cf-957adc76bc90"
   },
   "outputs": [
    {
     "name": "stdout",
     "output_type": "stream",
     "text": [
      "              precision    recall  f1-score   support\n",
      "\n",
      "           0       1.00      1.00      1.00     85301\n",
      "           1       0.89      0.82      0.86       142\n",
      "\n",
      "    accuracy                           1.00     85443\n",
      "   macro avg       0.95      0.91      0.93     85443\n",
      "weighted avg       1.00      1.00      1.00     85443\n",
      "\n"
     ]
    }
   ],
   "source": [
    "from sklearn.metrics import classification_report\n",
    "print(classification_report(y_test,predictions5))"
   ]
  },
  {
   "cell_type": "code",
   "execution_count": 111,
   "metadata": {
    "colab": {
     "base_uri": "https://localhost:8080/",
     "height": 373
    },
    "id": "wv2I2ctIK1Js",
    "outputId": "4ca31740-21c5-47cd-ab82-5251c6b24e93"
   },
   "outputs": [
    {
     "name": "stdout",
     "output_type": "stream",
     "text": [
      "Confusion Matrix:  [[85287    14]\n",
      " [   25   117]]\n"
     ]
    },
    {
     "data": {
      "image/png": "[encoded data removed]",
      "text/plain": [
       "<Figure size 360x360 with 1 Axes>"
      ]
     },
     "metadata": {
      "tags": []
     },
     "output_type": "display_data"
    }
   ],
   "source": [
    "from sklearn.metrics import confusion_matrix\n",
    "CM = confusion_matrix(y_test, predictions5)\n",
    "print('Confusion Matrix: ',CM)\n",
    "from mlxtend.plotting import plot_confusion_matrix\n",
    "fig, ax = plot_confusion_matrix(conf_mat=CM ,  figsize=(5, 5))\n",
    "plt.show()"
   ]
  },
  {
   "cell_type": "code",
   "execution_count": 112,
   "metadata": {
    "colab": {
     "base_uri": "https://localhost:8080/"
    },
    "id": "GffPZwWCK_UT",
    "outputId": "bfee8ff9-7525-4220-b4be-265bd2d203b7"
   },
   "outputs": [
    {
     "name": "stdout",
     "output_type": "stream",
     "text": [
      "Average ROC_AUC score: 0.97\n"
     ]
    }
   ],
   "source": [
    "from sklearn.metrics import roc_auc_score\n",
    "y_pred_proba = rfc.predict_proba(x_test)\n",
    "print('Average ROC_AUC score: {0:0.2f}'.format(roc_auc_score(y_test, y_pred_proba[:,1])))"
   ]
  },
  {
   "cell_type": "markdown",
   "metadata": {
    "id": "AA55oriaLGGg"
   },
   "source": [
    "Compared to the original Random Forest Classifier, the Recall of the minority class improved by using SMOTE at the cost of Precision. Furthermore, there is a slight decrease in the Average ROC_AUC score"
   ]
  },
  {
   "cell_type": "markdown",
   "metadata": {
    "id": "pPuLIivLYR2b"
   },
   "source": [
    "**9.3.XCGBoost classifier**"
   ]
  },
  {
   "cell_type": "code",
   "execution_count": 113,
   "metadata": {
    "id": "AT0Nl00PLPBE"
   },
   "outputs": [],
   "source": [
    "\n",
    "xgb.fit(x_sm, y_sm)\n",
    "predictions6 = xgb.predict(x_test)"
   ]
  },
  {
   "cell_type": "code",
   "execution_count": 114,
   "metadata": {
    "colab": {
     "base_uri": "https://localhost:8080/"
    },
    "id": "nVHlQ1yxLhQF",
    "outputId": "65048d1b-9574-4aa6-c020-b7bf070622bf"
   },
   "outputs": [
    {
     "name": "stdout",
     "output_type": "stream",
     "text": [
      "              precision    recall  f1-score   support\n",
      "\n",
      "           0       1.00      0.99      1.00     85301\n",
      "           1       0.20      0.89      0.32       142\n",
      "\n",
      "    accuracy                           0.99     85443\n",
      "   macro avg       0.60      0.94      0.66     85443\n",
      "weighted avg       1.00      0.99      1.00     85443\n",
      "\n"
     ]
    }
   ],
   "source": [
    "from sklearn.metrics import classification_report\n",
    "print(classification_report(y_test,predictions6))"
   ]
  },
  {
   "cell_type": "code",
   "execution_count": 115,
   "metadata": {
    "colab": {
     "base_uri": "https://localhost:8080/",
     "height": 373
    },
    "id": "_KRCvwImLnfy",
    "outputId": "09330ae9-2992-497a-d9f6-ef544b536c2a"
   },
   "outputs": [
    {
     "name": "stdout",
     "output_type": "stream",
     "text": [
      "Confusion Matrix:  [[84782   519]\n",
      " [   16   126]]\n"
     ]
    },
    {
     "data": {
      "image/png": "[encoded data removed]",
      "text/plain": [
       "<Figure size 360x360 with 1 Axes>"
      ]
     },
     "metadata": {
      "tags": []
     },
     "output_type": "display_data"
    }
   ],
   "source": [
    "from sklearn.metrics import confusion_matrix\n",
    "CM = confusion_matrix(y_test, predictions6)\n",
    "print('Confusion Matrix: ',CM)\n",
    "from mlxtend.plotting import plot_confusion_matrix\n",
    "fig, ax = plot_confusion_matrix(conf_mat=CM ,  figsize=(5, 5))\n",
    "plt.show()"
   ]
  },
  {
   "cell_type": "markdown",
   "metadata": {
    "id": "mx2lCvkoZqqM"
   },
   "source": [
    "Compared to the original XGBoost Model, using SMOTE improves the Recall of the minority class. However, both Precision and F1 Score show a sharp decrease."
   ]
  },
  {
   "cell_type": "markdown",
   "metadata": {
    "id": "CzQVCo3jo-o_"
   },
   "source": [
    "Our last model, XGBoost, had a False Negative Rate of 16%, which was the lowest of the four models we evaluated. Interestingly, the model achieved this lowest False Negative Rate while maintaining a True Negative Rate of 84%, which is good. This model, therefore, appears to be the most effective, as it finds an excellent balance between precision and recall"
   ]
  },
  {
   "cell_type": "code",
   "execution_count": 115,
   "metadata": {
    "id": "lQaQGpGBypUy"
   },
   "outputs": [],
   "source": []
  }
 ],
 "metadata": {
  "colab": {
   "collapsed_sections": [],
   "name": "Creditcard Fraud.ipynb",
   "provenance": []
  },
  "kernelspec": {
   "display_name": "Python 3",
   "language": "python",
   "name": "python3"
  },
  "language_info": {
   "codemirror_mode": {
    "name": "ipython",
    "version": 3
   },
   "file_extension": ".py",
   "mimetype": "text/x-python",
   "name": "python",
   "nbconvert_exporter": "python",
   "pygments_lexer": "ipython3",
   "version": "3.8.5"
  }
 },
 "nbformat": 4,
 "nbformat_minor": 1
}
